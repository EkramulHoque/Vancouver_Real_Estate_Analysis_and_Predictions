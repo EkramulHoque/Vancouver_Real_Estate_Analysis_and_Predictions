{
 "cells": [
  {
   "cell_type": "code",
   "execution_count": 5,
   "metadata": {},
   "outputs": [],
   "source": [
    "import pandas as pd\n",
    "import numpy as np\n",
    "\n",
    "van_data = pd.read_csv('Vancouver_Neigbourhood_data.csv')"
   ]
  },
  {
   "cell_type": "code",
   "execution_count": 6,
   "metadata": {},
   "outputs": [],
   "source": [
    "school_data = pd.read_csv('School_Data_with_Address.csv')"
   ]
  },
  {
   "cell_type": "code",
   "execution_count": 7,
   "metadata": {},
   "outputs": [],
   "source": [
    "van_data = van_data[['Neighbourhood_Name','Postal_Code']]\n",
    "school_data = school_data[['School Name','postal_area','2017-18 rating']]"
   ]
  },
  {
   "cell_type": "code",
   "execution_count": 8,
   "metadata": {},
   "outputs": [],
   "source": [
    "df = school_data.merge(van_data, left_on = 'postal_area',right_on = 'Postal_Code')\n",
    "\n",
    "df = df[['Neighbourhood_Name','Postal_Code','School Name','2017-18 rating']]\n",
    "\n",
    "df.to_csv(\"Neigbourhood_Schools_Ratings.csv\",index=False)"
   ]
  }
 ],
 "metadata": {
  "kernelspec": {
   "display_name": "Python 3",
   "language": "python",
   "name": "python3"
  },
  "language_info": {
   "codemirror_mode": {
    "name": "ipython",
    "version": 3
   },
   "file_extension": ".py",
   "mimetype": "text/x-python",
   "name": "python",
   "nbconvert_exporter": "python",
   "pygments_lexer": "ipython3",
   "version": "3.6.8"
  }
 },
 "nbformat": 4,
 "nbformat_minor": 2
}
