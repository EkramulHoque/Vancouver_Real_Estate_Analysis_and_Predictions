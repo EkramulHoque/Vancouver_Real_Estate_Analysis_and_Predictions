{
 "cells": [
  {
   "cell_type": "code",
   "execution_count": 90,
   "metadata": {},
   "outputs": [
    {
     "data": {
      "text/plain": [
       "Post_ID          0\n",
       "Time             0\n",
       "House_type       0\n",
       "Area             0\n",
       "Area_Name        0\n",
       "Address       7950\n",
       "Rent           187\n",
       "url              0\n",
       "dtype: int64"
      ]
     },
     "execution_count": 90,
     "metadata": {},
     "output_type": "execute_result"
    }
   ],
   "source": [
    "import numpy as np\n",
    "import pandas as pd\n",
    "\n",
    "#Feb records\n",
    "data1 = pd.read_csv(\"rental_data.csv\")\n",
    "\n",
    "#March records\n",
    "data2 = pd.read_csv(\"rental_data_March.csv\")\n",
    "\n",
    "data = pd.concat([data1, data2], axis=0)\n",
    "\n",
    "# check null value count\n",
    "data.isna().sum()"
   ]
  },
  {
   "cell_type": "code",
   "execution_count": 91,
   "metadata": {},
   "outputs": [
    {
     "name": "stdout",
     "output_type": "stream",
     "text": [
      "<class 'pandas.core.frame.DataFrame'>\n",
      "Int64Index: 49951 entries, 0 to 40617\n",
      "Data columns (total 8 columns):\n",
      "Post_ID       49951 non-null int64\n",
      "Time          49951 non-null object\n",
      "House_type    49951 non-null object\n",
      "Area          49951 non-null object\n",
      "Area_Name     49951 non-null object\n",
      "Address       49951 non-null object\n",
      "Rent          49951 non-null object\n",
      "url           49951 non-null object\n",
      "dtypes: int64(1), object(7)\n",
      "memory usage: 3.4+ MB\n"
     ]
    }
   ],
   "source": [
    "data = data.dropna(subset=['Rent'])\n",
    "\n",
    "data = data.fillna('Not Available')\n",
    "data.info()"
   ]
  },
  {
   "cell_type": "code",
   "execution_count": 92,
   "metadata": {},
   "outputs": [
    {
     "name": "stdout",
     "output_type": "stream",
     "text": [
      "<class 'pandas.core.frame.DataFrame'>\n",
      "Int64Index: 49951 entries, 0 to 40617\n",
      "Data columns (total 8 columns):\n",
      "Post_ID       49951 non-null int64\n",
      "Time          49951 non-null datetime64[ns]\n",
      "House_type    49951 non-null object\n",
      "Area          49951 non-null object\n",
      "Area_Name     49951 non-null object\n",
      "Address       49951 non-null object\n",
      "Rent          49951 non-null float64\n",
      "url           49951 non-null object\n",
      "dtypes: datetime64[ns](1), float64(1), int64(1), object(5)\n",
      "memory usage: 3.4+ MB\n"
     ]
    }
   ],
   "source": [
    "data['Time'] = pd.to_datetime(data['Time'])\n",
    "data['Rent'] = data.Rent.str.replace(',', '')\n",
    "data['Rent'] = data['Rent'].str.replace('$','').astype(float)\n",
    "data.info()"
   ]
  },
  {
   "cell_type": "code",
   "execution_count": 93,
   "metadata": {},
   "outputs": [],
   "source": [
    "samp_series = data[\"House_type\"]"
   ]
  },
  {
   "cell_type": "code",
   "execution_count": 94,
   "metadata": {},
   "outputs": [],
   "source": [
    "br = []\n",
    "area_sqft = []\n",
    "for val in samp_series:\n",
    "    if 'br' in val:\n",
    "        br.append(int(val[:val.index('br')]))\n",
    "        val = val[val.index('br')+3:]\n",
    "    else:\n",
    "        br.append(None)\n",
    "    if 'ft' in val:\n",
    "        area_sqft.append(int(val[:val.index('ft')]))\n",
    "    else:\n",
    "        area_sqft.append(None)"
   ]
  },
  {
   "cell_type": "code",
   "execution_count": 95,
   "metadata": {},
   "outputs": [
    {
     "data": {
      "text/html": [
       "<div>\n",
       "<style scoped>\n",
       "    .dataframe tbody tr th:only-of-type {\n",
       "        vertical-align: middle;\n",
       "    }\n",
       "\n",
       "    .dataframe tbody tr th {\n",
       "        vertical-align: top;\n",
       "    }\n",
       "\n",
       "    .dataframe thead th {\n",
       "        text-align: right;\n",
       "    }\n",
       "</style>\n",
       "<table border=\"1\" class=\"dataframe\">\n",
       "  <thead>\n",
       "    <tr style=\"text-align: right;\">\n",
       "      <th></th>\n",
       "      <th>Post_ID</th>\n",
       "      <th>Time</th>\n",
       "      <th>House_type</th>\n",
       "      <th>Area</th>\n",
       "      <th>Area_Name</th>\n",
       "      <th>Address</th>\n",
       "      <th>Rent</th>\n",
       "      <th>url</th>\n",
       "      <th>bed_rooms</th>\n",
       "      <th>house_size_sqft</th>\n",
       "    </tr>\n",
       "  </thead>\n",
       "  <tbody>\n",
       "    <tr>\n",
       "      <th>0</th>\n",
       "      <td>6827734213</td>\n",
       "      <td>2019-02-25 08:07:00</td>\n",
       "      <td>1br-540ft2-</td>\n",
       "      <td>V2A</td>\n",
       "      <td>Penticton</td>\n",
       "      <td>Not Available</td>\n",
       "      <td>850.0</td>\n",
       "      <td>https://kelowna.craigslist.org/apa/d/penticton...</td>\n",
       "      <td>1.0</td>\n",
       "      <td>540.0</td>\n",
       "    </tr>\n",
       "    <tr>\n",
       "      <th>1</th>\n",
       "      <td>6826412736</td>\n",
       "      <td>2019-02-23 10:11:00</td>\n",
       "      <td>2br-</td>\n",
       "      <td>V2A</td>\n",
       "      <td>Penticton</td>\n",
       "      <td>Not Available</td>\n",
       "      <td>1100.0</td>\n",
       "      <td>https://kelowna.craigslist.org/apa/d/penticton...</td>\n",
       "      <td>2.0</td>\n",
       "      <td>NaN</td>\n",
       "    </tr>\n",
       "  </tbody>\n",
       "</table>\n",
       "</div>"
      ],
      "text/plain": [
       "      Post_ID                Time   House_type Area  Area_Name        Address  \\\n",
       "0  6827734213 2019-02-25 08:07:00  1br-540ft2-  V2A  Penticton  Not Available   \n",
       "1  6826412736 2019-02-23 10:11:00         2br-  V2A  Penticton  Not Available   \n",
       "\n",
       "     Rent                                                url  bed_rooms  \\\n",
       "0   850.0  https://kelowna.craigslist.org/apa/d/penticton...        1.0   \n",
       "1  1100.0  https://kelowna.craigslist.org/apa/d/penticton...        2.0   \n",
       "\n",
       "   house_size_sqft  \n",
       "0            540.0  \n",
       "1              NaN  "
      ]
     },
     "execution_count": 95,
     "metadata": {},
     "output_type": "execute_result"
    }
   ],
   "source": [
    "data[\"bed_rooms\"] = br\n",
    "data[\"house_size_sqft\"] = area_sqft\n",
    "\n",
    "data.head(2)"
   ]
  },
  {
   "cell_type": "code",
   "execution_count": 96,
   "metadata": {},
   "outputs": [],
   "source": [
    "data = data.drop_duplicates(subset=['House_type', 'Area','Area_Name','Rent'])"
   ]
  },
  {
   "cell_type": "code",
   "execution_count": 97,
   "metadata": {},
   "outputs": [
    {
     "name": "stdout",
     "output_type": "stream",
     "text": [
      "<class 'pandas.core.frame.DataFrame'>\n",
      "Int64Index: 13878 entries, 0 to 40614\n",
      "Data columns (total 8 columns):\n",
      "Post_ID            13878 non-null int64\n",
      "Time               13878 non-null datetime64[ns]\n",
      "Area               13878 non-null object\n",
      "Area_Name          13878 non-null object\n",
      "Address            13878 non-null object\n",
      "bed_rooms          13194 non-null float64\n",
      "house_size_sqft    10920 non-null float64\n",
      "Rent               13878 non-null float64\n",
      "dtypes: datetime64[ns](1), float64(3), int64(1), object(3)\n",
      "memory usage: 975.8+ KB\n"
     ]
    }
   ],
   "source": [
    "data = data.drop_duplicates(subset='Post_ID')\n",
    "\n",
    "data = data[[\"Post_ID\",\"Time\",\"Area\",\"Area_Name\",\"Address\",\"bed_rooms\",\"house_size_sqft\",\"Rent\"]]\n",
    "\n",
    "data.info()"
   ]
  },
  {
   "cell_type": "code",
   "execution_count": 98,
   "metadata": {},
   "outputs": [],
   "source": [
    "#data.to_csv(\"rental_data_cleaned.csv\",index=False)\n",
    "#data.to_csv(\"rental_data_cleaned_March.csv\",index=False)\n",
    "data.to_csv(\"all___rental_data_cleaned.csv\",index=False)"
   ]
  },
  {
   "cell_type": "code",
   "execution_count": null,
   "metadata": {},
   "outputs": [],
   "source": []
  },
  {
   "cell_type": "code",
   "execution_count": null,
   "metadata": {},
   "outputs": [],
   "source": []
  },
  {
   "cell_type": "code",
   "execution_count": null,
   "metadata": {},
   "outputs": [],
   "source": []
  },
  {
   "cell_type": "code",
   "execution_count": null,
   "metadata": {},
   "outputs": [],
   "source": []
  },
  {
   "cell_type": "code",
   "execution_count": 8,
   "metadata": {},
   "outputs": [],
   "source": [
    "model_data = data[data['house_size_sqft'] != 0]\n",
    "model_data = model_data[[\"Area\",\"bed_rooms\",\"house_size_sqft\",\"Rent\"]]"
   ]
  },
  {
   "cell_type": "code",
   "execution_count": 10,
   "metadata": {},
   "outputs": [
    {
     "data": {
      "text/html": [
       "<div>\n",
       "<style scoped>\n",
       "    .dataframe tbody tr th:only-of-type {\n",
       "        vertical-align: middle;\n",
       "    }\n",
       "\n",
       "    .dataframe tbody tr th {\n",
       "        vertical-align: top;\n",
       "    }\n",
       "\n",
       "    .dataframe thead th {\n",
       "        text-align: right;\n",
       "    }\n",
       "</style>\n",
       "<table border=\"1\" class=\"dataframe\">\n",
       "  <thead>\n",
       "    <tr style=\"text-align: right;\">\n",
       "      <th></th>\n",
       "      <th>Unnamed: 0</th>\n",
       "      <th>2017-18 rank</th>\n",
       "      <th>rank in the most recent 5 years</th>\n",
       "      <th>trend</th>\n",
       "      <th>School Name</th>\n",
       "      <th>City</th>\n",
       "      <th>2017-18 rating</th>\n",
       "      <th>rating in the most recent 5 years</th>\n",
       "      <th>All Schools</th>\n",
       "      <th>Address</th>\n",
       "    </tr>\n",
       "  </thead>\n",
       "  <tbody>\n",
       "    <tr>\n",
       "      <th>0</th>\n",
       "      <td>0</td>\n",
       "      <td>1/955</td>\n",
       "      <td>1/805</td>\n",
       "      <td></td>\n",
       "      <td>Cedardale</td>\n",
       "      <td>West Vancouver</td>\n",
       "      <td>10.0</td>\n",
       "      <td>10.0</td>\n",
       "      <td>Add to compare</td>\n",
       "      <td>595 Burley Dr, West Vancouver, BC V7T 1Z3</td>\n",
       "    </tr>\n",
       "    <tr>\n",
       "      <th>1</th>\n",
       "      <td>1</td>\n",
       "      <td>1/955</td>\n",
       "      <td>1/805</td>\n",
       "      <td>NaN</td>\n",
       "      <td>Corpus Christi</td>\n",
       "      <td>Vancouver</td>\n",
       "      <td>10.0</td>\n",
       "      <td>10.0</td>\n",
       "      <td>Add to compare</td>\n",
       "      <td>NaN</td>\n",
       "    </tr>\n",
       "    <tr>\n",
       "      <th>2</th>\n",
       "      <td>2</td>\n",
       "      <td>1/955</td>\n",
       "      <td>1/805</td>\n",
       "      <td></td>\n",
       "      <td>Crofton House</td>\n",
       "      <td>Vancouver</td>\n",
       "      <td>10.0</td>\n",
       "      <td>10.0</td>\n",
       "      <td>Add to compare</td>\n",
       "      <td>3200 W 41st Ave, Vancouver, BC V6N 3E1</td>\n",
       "    </tr>\n",
       "    <tr>\n",
       "      <th>3</th>\n",
       "      <td>3</td>\n",
       "      <td>1/955</td>\n",
       "      <td>1/805</td>\n",
       "      <td></td>\n",
       "      <td>Diamond</td>\n",
       "      <td>Surrey</td>\n",
       "      <td>10.0</td>\n",
       "      <td>10.0</td>\n",
       "      <td>Add to compare</td>\n",
       "      <td>18620 56 Ave, Surrey, BC V3S 1G1</td>\n",
       "    </tr>\n",
       "    <tr>\n",
       "      <th>4</th>\n",
       "      <td>4</td>\n",
       "      <td>1/955</td>\n",
       "      <td>1/805</td>\n",
       "      <td></td>\n",
       "      <td>Holy Cross</td>\n",
       "      <td>Burnaby</td>\n",
       "      <td>10.0</td>\n",
       "      <td>10.0</td>\n",
       "      <td>Add to compare</td>\n",
       "      <td>1450 Delta Ave, Burnaby, BC V5B 3G2</td>\n",
       "    </tr>\n",
       "  </tbody>\n",
       "</table>\n",
       "</div>"
      ],
      "text/plain": [
       "   Unnamed: 0 2017-18 rank rank in the most recent 5 years trend  \\\n",
       "0           0        1/955                           1/805        \n",
       "1           1        1/955                           1/805   NaN   \n",
       "2           2        1/955                           1/805        \n",
       "3           3        1/955                           1/805        \n",
       "4           4        1/955                           1/805        \n",
       "\n",
       "      School Name            City  2017-18 rating  \\\n",
       "0       Cedardale  West Vancouver            10.0   \n",
       "1  Corpus Christi       Vancouver            10.0   \n",
       "2   Crofton House       Vancouver            10.0   \n",
       "3         Diamond          Surrey            10.0   \n",
       "4      Holy Cross         Burnaby            10.0   \n",
       "\n",
       "   rating in the most recent 5 years     All Schools  \\\n",
       "0                               10.0  Add to compare   \n",
       "1                               10.0  Add to compare   \n",
       "2                               10.0  Add to compare   \n",
       "3                               10.0  Add to compare   \n",
       "4                               10.0  Add to compare   \n",
       "\n",
       "                                     Address  \n",
       "0  595 Burley Dr, West Vancouver, BC V7T 1Z3  \n",
       "1                                        NaN  \n",
       "2     3200 W 41st Ave, Vancouver, BC V6N 3E1  \n",
       "3           18620 56 Ave, Surrey, BC V3S 1G1  \n",
       "4        1450 Delta Ave, Burnaby, BC V5B 3G2  "
      ]
     },
     "execution_count": 10,
     "metadata": {},
     "output_type": "execute_result"
    }
   ],
   "source": [
    "school_data = pd.read_csv(\"elementary_schools_address.csv\")\n",
    "school_data.head()"
   ]
  },
  {
   "cell_type": "code",
   "execution_count": 53,
   "metadata": {},
   "outputs": [],
   "source": [
    "import re\n",
    "\n",
    "ar_code = []\n",
    "school_data['Address'] = school_data['Address'].fillna('unknown')\n",
    "\n",
    "for val in school_data['Address']:\n",
    "    if re.search(\"[V][0-9][ABCEGHJKLMNPRSTVWXYZ]\", val , re.IGNORECASE):\n",
    "        ar_code.append(re.search(\"[V][0-9][ABCEGHJKLMNPRSTVWXYZ]\", val , re.IGNORECASE | re.DOTALL)[0])\n",
    "    else:\n",
    "        ar_code.append(\"none\")\n",
    "\n",
    "school_data[\"postal_area\"] = ar_code\n",
    "school_data\n",
    "\n",
    "p_df = school_data.groupby('postal_area').median()\n",
    "join_df = pd.DataFrame()\n",
    "join_df['Area'] = p_df['2017-18 rating'].index\n",
    "join_df['Rating'] = p_df['2017-18 rating'].values\n",
    "join_df\n",
    "\n",
    "model_data['Area']= model_data['Area'].astype(str)\n",
    "join_df['Area']= join_df['Area'].astype(str)\n",
    "\n",
    "\n",
    "df_inner = pd.merge(model_data, join_df, on='Area', how='inner')\n",
    "df_inner.rename(columns={'Rating': 'Median_school_rating',}, inplace=True)\n",
    "fin_df = df_inner[['Area','bed_rooms','house_size_sqft','Median_school_rating','Rent']]"
   ]
  },
  {
   "cell_type": "code",
   "execution_count": 54,
   "metadata": {},
   "outputs": [],
   "source": [
    "fin_df.to_csv(\"model_rental_data.csv\",index=False)"
   ]
  }
 ],
 "metadata": {
  "kernelspec": {
   "display_name": "Python 3",
   "language": "python",
   "name": "python3"
  },
  "language_info": {
   "codemirror_mode": {
    "name": "ipython",
    "version": 3
   },
   "file_extension": ".py",
   "mimetype": "text/x-python",
   "name": "python",
   "nbconvert_exporter": "python",
   "pygments_lexer": "ipython3",
   "version": "3.6.8"
  }
 },
 "nbformat": 4,
 "nbformat_minor": 2
}
