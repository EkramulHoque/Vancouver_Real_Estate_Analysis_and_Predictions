{
 "cells": [
  {
   "cell_type": "code",
   "execution_count": 1,
   "metadata": {},
   "outputs": [],
   "source": [
    "import pandas as pd\n",
    "import numpy as np\n",
    "\n",
    "data = pd.read_csv('Property_taxes_data/property_tax_report_csv2019.csv')\n",
    "\n",
    "neigh_codes = pd.read_csv('van_neighbour_code_map.csv')"
   ]
  },
  {
   "cell_type": "code",
   "execution_count": 2,
   "metadata": {},
   "outputs": [
    {
     "data": {
      "text/html": [
       "<div>\n",
       "<style scoped>\n",
       "    .dataframe tbody tr th:only-of-type {\n",
       "        vertical-align: middle;\n",
       "    }\n",
       "\n",
       "    .dataframe tbody tr th {\n",
       "        vertical-align: top;\n",
       "    }\n",
       "\n",
       "    .dataframe thead th {\n",
       "        text-align: right;\n",
       "    }\n",
       "</style>\n",
       "<table border=\"1\" class=\"dataframe\">\n",
       "  <thead>\n",
       "    <tr style=\"text-align: right;\">\n",
       "      <th></th>\n",
       "      <th>PID</th>\n",
       "      <th>LEGAL_TYPE</th>\n",
       "      <th>FOLIO</th>\n",
       "      <th>LAND_COORDINATE</th>\n",
       "      <th>ZONE_NAME</th>\n",
       "      <th>ZONE_CATEGORY</th>\n",
       "      <th>LOT</th>\n",
       "      <th>BLOCK</th>\n",
       "      <th>PLAN</th>\n",
       "      <th>DISTRICT_LOT</th>\n",
       "      <th>...</th>\n",
       "      <th>CURRENT_IMPROVEMENT_VALUE</th>\n",
       "      <th>TAX_ASSESSMENT_YEAR</th>\n",
       "      <th>PREVIOUS_LAND_VALUE</th>\n",
       "      <th>PREVIOUS_IMPROVEMENT_VALUE</th>\n",
       "      <th>YEAR_BUILT</th>\n",
       "      <th>BIG_IMPROVEMENT_YEAR</th>\n",
       "      <th>TAX_LEVY</th>\n",
       "      <th>NEIGHBOURHOOD_CODE</th>\n",
       "      <th>CODE</th>\n",
       "      <th>NEIGHBOURHOOD_NAME</th>\n",
       "    </tr>\n",
       "  </thead>\n",
       "  <tbody>\n",
       "    <tr>\n",
       "      <th>0</th>\n",
       "      <td>029-080-100</td>\n",
       "      <td>STRATA</td>\n",
       "      <td>638179040086</td>\n",
       "      <td>63817904</td>\n",
       "      <td>CD-1 (462)</td>\n",
       "      <td>Comprehensive Development</td>\n",
       "      <td>86</td>\n",
       "      <td>NaN</td>\n",
       "      <td>EPS1197</td>\n",
       "      <td>200A</td>\n",
       "      <td>...</td>\n",
       "      <td>186000.0</td>\n",
       "      <td>2019.0</td>\n",
       "      <td>426000.0</td>\n",
       "      <td>187000.0</td>\n",
       "      <td>2013.0</td>\n",
       "      <td>2013.0</td>\n",
       "      <td>NaN</td>\n",
       "      <td>13</td>\n",
       "      <td>13</td>\n",
       "      <td>Mount Pleasant</td>\n",
       "    </tr>\n",
       "    <tr>\n",
       "      <th>1</th>\n",
       "      <td>018-056-971</td>\n",
       "      <td>LAND</td>\n",
       "      <td>230600060000</td>\n",
       "      <td>23060006</td>\n",
       "      <td>I-2</td>\n",
       "      <td>Light Industrial</td>\n",
       "      <td>1</td>\n",
       "      <td>NaN</td>\n",
       "      <td>LMP7979</td>\n",
       "      <td>182</td>\n",
       "      <td>...</td>\n",
       "      <td>19000.0</td>\n",
       "      <td>2019.0</td>\n",
       "      <td>6277000.0</td>\n",
       "      <td>19000.0</td>\n",
       "      <td>1993.0</td>\n",
       "      <td>1993.0</td>\n",
       "      <td>NaN</td>\n",
       "      <td>14</td>\n",
       "      <td>14</td>\n",
       "      <td>Grandview-Woodland</td>\n",
       "    </tr>\n",
       "    <tr>\n",
       "      <th>2</th>\n",
       "      <td>029-850-045</td>\n",
       "      <td>STRATA</td>\n",
       "      <td>138600890424</td>\n",
       "      <td>13860089</td>\n",
       "      <td>CD-1 (525)</td>\n",
       "      <td>Comprehensive Development</td>\n",
       "      <td>424</td>\n",
       "      <td>54</td>\n",
       "      <td>EPS3242</td>\n",
       "      <td>541</td>\n",
       "      <td>...</td>\n",
       "      <td>NaN</td>\n",
       "      <td>NaN</td>\n",
       "      <td>2079000.0</td>\n",
       "      <td>644000.0</td>\n",
       "      <td>2016.0</td>\n",
       "      <td>2016.0</td>\n",
       "      <td>NaN</td>\n",
       "      <td>26</td>\n",
       "      <td>26</td>\n",
       "      <td>Downtown</td>\n",
       "    </tr>\n",
       "    <tr>\n",
       "      <th>3</th>\n",
       "      <td>009-272-046</td>\n",
       "      <td>LAND</td>\n",
       "      <td>150765720000</td>\n",
       "      <td>15076572</td>\n",
       "      <td>RS-1</td>\n",
       "      <td>One Family Dwelling</td>\n",
       "      <td>10</td>\n",
       "      <td>1008</td>\n",
       "      <td>VAP10874</td>\n",
       "      <td>526</td>\n",
       "      <td>...</td>\n",
       "      <td>57200.0</td>\n",
       "      <td>2019.0</td>\n",
       "      <td>3483000.0</td>\n",
       "      <td>57200.0</td>\n",
       "      <td>1965.0</td>\n",
       "      <td>1965.0</td>\n",
       "      <td>NaN</td>\n",
       "      <td>11</td>\n",
       "      <td>11</td>\n",
       "      <td>Oakridge</td>\n",
       "    </tr>\n",
       "    <tr>\n",
       "      <th>4</th>\n",
       "      <td>009-272-054</td>\n",
       "      <td>LAND</td>\n",
       "      <td>150765860000</td>\n",
       "      <td>15076586</td>\n",
       "      <td>RS-1</td>\n",
       "      <td>One Family Dwelling</td>\n",
       "      <td>11</td>\n",
       "      <td>1008</td>\n",
       "      <td>VAP10874</td>\n",
       "      <td>526</td>\n",
       "      <td>...</td>\n",
       "      <td>214000.0</td>\n",
       "      <td>2019.0</td>\n",
       "      <td>3210000.0</td>\n",
       "      <td>214000.0</td>\n",
       "      <td>1973.0</td>\n",
       "      <td>1973.0</td>\n",
       "      <td>NaN</td>\n",
       "      <td>11</td>\n",
       "      <td>11</td>\n",
       "      <td>Oakridge</td>\n",
       "    </tr>\n",
       "  </tbody>\n",
       "</table>\n",
       "<p>5 rows × 30 columns</p>\n",
       "</div>"
      ],
      "text/plain": [
       "           PID LEGAL_TYPE         FOLIO  LAND_COORDINATE   ZONE_NAME  \\\n",
       "0  029-080-100     STRATA  638179040086         63817904  CD-1 (462)   \n",
       "1  018-056-971       LAND  230600060000         23060006         I-2   \n",
       "2  029-850-045     STRATA  138600890424         13860089  CD-1 (525)   \n",
       "3  009-272-046       LAND  150765720000         15076572        RS-1   \n",
       "4  009-272-054       LAND  150765860000         15076586        RS-1   \n",
       "\n",
       "               ZONE_CATEGORY  LOT BLOCK      PLAN DISTRICT_LOT  \\\n",
       "0  Comprehensive Development   86   NaN   EPS1197         200A   \n",
       "1           Light Industrial    1   NaN   LMP7979          182   \n",
       "2  Comprehensive Development  424    54   EPS3242          541   \n",
       "3        One Family Dwelling   10  1008  VAP10874          526   \n",
       "4        One Family Dwelling   11  1008  VAP10874          526   \n",
       "\n",
       "          ...          CURRENT_IMPROVEMENT_VALUE  TAX_ASSESSMENT_YEAR  \\\n",
       "0         ...                           186000.0               2019.0   \n",
       "1         ...                            19000.0               2019.0   \n",
       "2         ...                                NaN                  NaN   \n",
       "3         ...                            57200.0               2019.0   \n",
       "4         ...                           214000.0               2019.0   \n",
       "\n",
       "  PREVIOUS_LAND_VALUE PREVIOUS_IMPROVEMENT_VALUE YEAR_BUILT  \\\n",
       "0            426000.0                   187000.0     2013.0   \n",
       "1           6277000.0                    19000.0     1993.0   \n",
       "2           2079000.0                   644000.0     2016.0   \n",
       "3           3483000.0                    57200.0     1965.0   \n",
       "4           3210000.0                   214000.0     1973.0   \n",
       "\n",
       "  BIG_IMPROVEMENT_YEAR TAX_LEVY NEIGHBOURHOOD_CODE CODE   NEIGHBOURHOOD_NAME  \n",
       "0               2013.0      NaN                 13   13       Mount Pleasant  \n",
       "1               1993.0      NaN                 14   14   Grandview-Woodland  \n",
       "2               2016.0      NaN                 26   26             Downtown  \n",
       "3               1965.0      NaN                 11   11             Oakridge  \n",
       "4               1973.0      NaN                 11   11             Oakridge  \n",
       "\n",
       "[5 rows x 30 columns]"
      ]
     },
     "execution_count": 2,
     "metadata": {},
     "output_type": "execute_result"
    }
   ],
   "source": [
    "data_n = pd.merge(data, neigh_codes, left_on='NEIGHBOURHOOD_CODE', right_on='CODE', how='left')\n",
    "data_n.head()"
   ]
  },
  {
   "cell_type": "code",
   "execution_count": 3,
   "metadata": {},
   "outputs": [],
   "source": [
    "data_n['CURRENT_HOUSE_PRICE'] = data_n.apply(lambda x: (x['CURRENT_LAND_VALUE']+x['CURRENT_IMPROVEMENT_VALUE'])/1000000.0, axis = 1)\n",
    "data_n['PREVIOUS_HOUSE_PRICE'] = data_n.apply(lambda x: (x['PREVIOUS_LAND_VALUE']+x['PREVIOUS_IMPROVEMENT_VALUE'])/1000000.0, axis = 1)\n",
    "data_n['PRICE_CHANGE_FROM_PREV_YEAR'] = data_n['CURRENT_HOUSE_PRICE']-data_n['PREVIOUS_HOUSE_PRICE']\n",
    "data_n.columns = data_n.columns.str.strip()"
   ]
  },
  {
   "cell_type": "code",
   "execution_count": 4,
   "metadata": {},
   "outputs": [],
   "source": [
    "req_data = data_n[['NEIGHBOURHOOD_NAME','LEGAL_TYPE','CURRENT_HOUSE_PRICE','PREVIOUS_HOUSE_PRICE','YEAR_BUILT']]"
   ]
  },
  {
   "cell_type": "code",
   "execution_count": 5,
   "metadata": {},
   "outputs": [],
   "source": [
    "val_counts = req_data['NEIGHBOURHOOD_NAME'].value_counts()\n",
    "neighbour_name = val_counts.rename_axis('Neighbourhood_Name').reset_index(name='Property_Count')"
   ]
  },
  {
   "cell_type": "code",
   "execution_count": 6,
   "metadata": {},
   "outputs": [],
   "source": [
    "land_data = req_data[req_data['LEGAL_TYPE']=='LAND']\n",
    "val_counts = land_data['NEIGHBOURHOOD_NAME'].value_counts()\n",
    "Land_vals = val_counts.rename_axis('Neighbourhood_Name').reset_index(name='Land_Property_Count')"
   ]
  },
  {
   "cell_type": "code",
   "execution_count": 7,
   "metadata": {},
   "outputs": [],
   "source": [
    "strata_data = req_data[req_data['LEGAL_TYPE']=='STRATA']\n",
    "val_counts = strata_data['NEIGHBOURHOOD_NAME'].value_counts()\n",
    "Strata_vals = val_counts.rename_axis('Neighbourhood_Name').reset_index(name='Strata_Property_Count')"
   ]
  },
  {
   "cell_type": "code",
   "execution_count": 8,
   "metadata": {},
   "outputs": [],
   "source": [
    "Price_vals = req_data.groupby('NEIGHBOURHOOD_NAME').agg({'CURRENT_HOUSE_PRICE':np.median}).reset_index()\n",
    "Price_vals = Price_vals.rename(columns={\"NEIGHBOURHOOD_NAME\": \"Neighbourhood_Name\", \"CURRENT_HOUSE_PRICE\": \"Median_House_Price_2019\"})"
   ]
  },
  {
   "cell_type": "code",
   "execution_count": 9,
   "metadata": {
    "collapsed": true
   },
   "outputs": [
    {
     "name": "stderr",
     "output_type": "stream",
     "text": [
      "c:\\users\\rohithsoorampc\\appdata\\local\\programs\\python\\python36\\lib\\site-packages\\ipykernel_launcher.py:1: SettingWithCopyWarning: \n",
      "A value is trying to be set on a copy of a slice from a DataFrame.\n",
      "Try using .loc[row_indexer,col_indexer] = value instead\n",
      "\n",
      "See the caveats in the documentation: http://pandas.pydata.org/pandas-docs/stable/indexing.html#indexing-view-versus-copy\n",
      "  \"\"\"Entry point for launching an IPython kernel.\n"
     ]
    }
   ],
   "source": [
    "req_data['Price_Change'] = req_data['CURRENT_HOUSE_PRICE']-req_data['PREVIOUS_HOUSE_PRICE']\n",
    "Price_decrease = req_data[req_data['Price_Change']<=0]\n",
    "val_counts = Price_decrease['NEIGHBOURHOOD_NAME'].value_counts()\n",
    "inc_counts = val_counts.rename_axis('Neighbourhood_Name').reset_index(name='Price_decrease_Count')\n",
    "prop_counts = pd.merge(neighbour_name, inc_counts, on = 'Neighbourhood_Name', how='inner')\n",
    "prop_counts['Propertes_Price_decrease_percent_from_2018'] = (prop_counts['Price_decrease_Count']/prop_counts['Property_Count'])*100\n",
    "prop_counts = prop_counts[['Neighbourhood_Name','Propertes_Price_decrease_percent_from_2018']]"
   ]
  },
  {
   "cell_type": "code",
   "execution_count": 10,
   "metadata": {
    "scrolled": true
   },
   "outputs": [],
   "source": [
    "req_data = req_data.dropna()\n",
    "req_data['AGE'] = 2019 - req_data['YEAR_BUILT'].astype(int) \n",
    "\n",
    "Prop_age = req_data.groupby('NEIGHBOURHOOD_NAME').agg({'AGE':np.median}).reset_index()\n",
    "Prop_age = Prop_age.rename(columns={\"NEIGHBOURHOOD_NAME\": \"Neighbourhood_Name\", \"AGE\": \"Median_House_Age\"})"
   ]
  },
  {
   "cell_type": "code",
   "execution_count": 11,
   "metadata": {},
   "outputs": [],
   "source": [
    "#from functools import reduce\n",
    "df_list = [neighbour_name, Land_vals, Strata_vals, Price_vals,prop_counts,Prop_age]\n",
    "fin_df = df_list[0]\n",
    "for df in df_list[1:]:\n",
    "    fin_df = fin_df.merge(df, on='Neighbourhood_Name')\n",
    "fin_df.to_csv(\"Vancouver_Neigbourhood_Data.csv\",index=False)"
   ]
  }
 ],
 "metadata": {
  "kernelspec": {
   "display_name": "Python 3",
   "language": "python",
   "name": "python3"
  },
  "language_info": {
   "codemirror_mode": {
    "name": "ipython",
    "version": 3
   },
   "file_extension": ".py",
   "mimetype": "text/x-python",
   "name": "python",
   "nbconvert_exporter": "python",
   "pygments_lexer": "ipython3",
   "version": "3.6.8"
  }
 },
 "nbformat": 4,
 "nbformat_minor": 2
}
