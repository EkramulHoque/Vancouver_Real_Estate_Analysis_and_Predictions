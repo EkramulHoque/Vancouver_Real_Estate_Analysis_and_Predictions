{
 "cells": [
  {
   "cell_type": "code",
   "execution_count": 1,
   "metadata": {},
   "outputs": [
    {
     "data": {
      "text/plain": [
       "Post_ID          0\n",
       "Time             0\n",
       "House_type       0\n",
       "Area             0\n",
       "Area_Name        0\n",
       "Address       2148\n",
       "Rent           187\n",
       "url              0\n",
       "dtype: int64"
      ]
     },
     "execution_count": 1,
     "metadata": {},
     "output_type": "execute_result"
    }
   ],
   "source": [
    "import numpy as np\n",
    "import pandas as pd\n",
    "\n",
    "data = pd.read_csv(\"rental_data.csv\")\n",
    "\n",
    "# check null value count\n",
    "data.isna().sum()"
   ]
  },
  {
   "cell_type": "code",
   "execution_count": 2,
   "metadata": {},
   "outputs": [
    {
     "name": "stdout",
     "output_type": "stream",
     "text": [
      "<class 'pandas.core.frame.DataFrame'>\n",
      "Int64Index: 9333 entries, 0 to 9519\n",
      "Data columns (total 8 columns):\n",
      "Post_ID       9333 non-null int64\n",
      "Time          9333 non-null object\n",
      "House_type    9333 non-null object\n",
      "Area          9333 non-null object\n",
      "Area_Name     9333 non-null object\n",
      "Address       9333 non-null object\n",
      "Rent          9333 non-null object\n",
      "url           9333 non-null object\n",
      "dtypes: int64(1), object(7)\n",
      "memory usage: 656.2+ KB\n"
     ]
    }
   ],
   "source": [
    "data = data.dropna(subset=['Rent'])\n",
    "\n",
    "data = data.fillna('Not Available')\n",
    "data.info()"
   ]
  },
  {
   "cell_type": "code",
   "execution_count": 3,
   "metadata": {},
   "outputs": [
    {
     "name": "stdout",
     "output_type": "stream",
     "text": [
      "<class 'pandas.core.frame.DataFrame'>\n",
      "Int64Index: 9333 entries, 0 to 9519\n",
      "Data columns (total 8 columns):\n",
      "Post_ID       9333 non-null int64\n",
      "Time          9333 non-null datetime64[ns]\n",
      "House_type    9333 non-null object\n",
      "Area          9333 non-null object\n",
      "Area_Name     9333 non-null object\n",
      "Address       9333 non-null object\n",
      "Rent          9333 non-null float64\n",
      "url           9333 non-null object\n",
      "dtypes: datetime64[ns](1), float64(1), int64(1), object(5)\n",
      "memory usage: 656.2+ KB\n"
     ]
    }
   ],
   "source": [
    "data['Time'] = pd.to_datetime(data['Time'])\n",
    "data['Rent'] = data.Rent.str.replace(',', '')\n",
    "data['Rent'] = data['Rent'].str.replace('$','').astype(float)\n",
    "data.info()"
   ]
  },
  {
   "cell_type": "code",
   "execution_count": 4,
   "metadata": {},
   "outputs": [],
   "source": [
    "samp_series = data[\"House_type\"]\n",
    "data = data.drop(\"House_type\",axis=1)"
   ]
  },
  {
   "cell_type": "code",
   "execution_count": 5,
   "metadata": {},
   "outputs": [],
   "source": [
    "br = []\n",
    "area_sqft = []\n",
    "for val in samp_series:\n",
    "    br.append(int(val.split(\"-\")[0][0]))\n",
    "    if not val.split(\"-\")[1]:\n",
    "        area_sqft.append(0)\n",
    "    else:\n",
    "        area_sqft.append(int(val.split(\"-\")[1][:-3]))"
   ]
  },
  {
   "cell_type": "code",
   "execution_count": 6,
   "metadata": {},
   "outputs": [
    {
     "data": {
      "text/html": [
       "<div>\n",
       "<style scoped>\n",
       "    .dataframe tbody tr th:only-of-type {\n",
       "        vertical-align: middle;\n",
       "    }\n",
       "\n",
       "    .dataframe tbody tr th {\n",
       "        vertical-align: top;\n",
       "    }\n",
       "\n",
       "    .dataframe thead th {\n",
       "        text-align: right;\n",
       "    }\n",
       "</style>\n",
       "<table border=\"1\" class=\"dataframe\">\n",
       "  <thead>\n",
       "    <tr style=\"text-align: right;\">\n",
       "      <th></th>\n",
       "      <th>Post_ID</th>\n",
       "      <th>Time</th>\n",
       "      <th>Area</th>\n",
       "      <th>Area_Name</th>\n",
       "      <th>Address</th>\n",
       "      <th>Rent</th>\n",
       "      <th>url</th>\n",
       "      <th>bed_rooms</th>\n",
       "      <th>house_size_sqft</th>\n",
       "    </tr>\n",
       "  </thead>\n",
       "  <tbody>\n",
       "    <tr>\n",
       "      <th>0</th>\n",
       "      <td>6827734213</td>\n",
       "      <td>2019-02-25 08:07:00</td>\n",
       "      <td>V2A</td>\n",
       "      <td>Penticton</td>\n",
       "      <td>Not Available</td>\n",
       "      <td>850.0</td>\n",
       "      <td>https://kelowna.craigslist.org/apa/d/penticton...</td>\n",
       "      <td>1</td>\n",
       "      <td>540</td>\n",
       "    </tr>\n",
       "    <tr>\n",
       "      <th>1</th>\n",
       "      <td>6826412736</td>\n",
       "      <td>2019-02-23 10:11:00</td>\n",
       "      <td>V2A</td>\n",
       "      <td>Penticton</td>\n",
       "      <td>Not Available</td>\n",
       "      <td>1100.0</td>\n",
       "      <td>https://kelowna.craigslist.org/apa/d/penticton...</td>\n",
       "      <td>2</td>\n",
       "      <td>0</td>\n",
       "    </tr>\n",
       "    <tr>\n",
       "      <th>2</th>\n",
       "      <td>6826412394</td>\n",
       "      <td>2019-02-23 10:10:00</td>\n",
       "      <td>V2A</td>\n",
       "      <td>Penticton</td>\n",
       "      <td>Not Available</td>\n",
       "      <td>1100.0</td>\n",
       "      <td>https://kelowna.craigslist.org/apa/d/penticton...</td>\n",
       "      <td>2</td>\n",
       "      <td>0</td>\n",
       "    </tr>\n",
       "    <tr>\n",
       "      <th>3</th>\n",
       "      <td>6826411635</td>\n",
       "      <td>2019-02-23 10:10:00</td>\n",
       "      <td>V2A</td>\n",
       "      <td>Penticton</td>\n",
       "      <td>Not Available</td>\n",
       "      <td>1100.0</td>\n",
       "      <td>https://kelowna.craigslist.org/apa/d/penticton...</td>\n",
       "      <td>2</td>\n",
       "      <td>0</td>\n",
       "    </tr>\n",
       "    <tr>\n",
       "      <th>4</th>\n",
       "      <td>6824777796</td>\n",
       "      <td>2019-02-21 10:02:00</td>\n",
       "      <td>V2A</td>\n",
       "      <td>Penticton</td>\n",
       "      <td>Not Available</td>\n",
       "      <td>895.0</td>\n",
       "      <td>https://kelowna.craigslist.org/apa/d/penticton...</td>\n",
       "      <td>2</td>\n",
       "      <td>0</td>\n",
       "    </tr>\n",
       "  </tbody>\n",
       "</table>\n",
       "</div>"
      ],
      "text/plain": [
       "      Post_ID                Time Area  Area_Name        Address    Rent  \\\n",
       "0  6827734213 2019-02-25 08:07:00  V2A  Penticton  Not Available   850.0   \n",
       "1  6826412736 2019-02-23 10:11:00  V2A  Penticton  Not Available  1100.0   \n",
       "2  6826412394 2019-02-23 10:10:00  V2A  Penticton  Not Available  1100.0   \n",
       "3  6826411635 2019-02-23 10:10:00  V2A  Penticton  Not Available  1100.0   \n",
       "4  6824777796 2019-02-21 10:02:00  V2A  Penticton  Not Available   895.0   \n",
       "\n",
       "                                                 url  bed_rooms  \\\n",
       "0  https://kelowna.craigslist.org/apa/d/penticton...          1   \n",
       "1  https://kelowna.craigslist.org/apa/d/penticton...          2   \n",
       "2  https://kelowna.craigslist.org/apa/d/penticton...          2   \n",
       "3  https://kelowna.craigslist.org/apa/d/penticton...          2   \n",
       "4  https://kelowna.craigslist.org/apa/d/penticton...          2   \n",
       "\n",
       "   house_size_sqft  \n",
       "0              540  \n",
       "1                0  \n",
       "2                0  \n",
       "3                0  \n",
       "4                0  "
      ]
     },
     "execution_count": 6,
     "metadata": {},
     "output_type": "execute_result"
    }
   ],
   "source": [
    "data[\"bed_rooms\"] = br\n",
    "data[\"house_size_sqft\"] = area_sqft\n",
    "data.head()"
   ]
  },
  {
   "cell_type": "code",
   "execution_count": 7,
   "metadata": {},
   "outputs": [],
   "source": [
    "data.to_csv(\"rental_data_cleaned.csv\",index=False)"
   ]
  }
 ],
 "metadata": {
  "kernelspec": {
   "display_name": "Python 3",
   "language": "python",
   "name": "python3"
  },
  "language_info": {
   "codemirror_mode": {
    "name": "ipython",
    "version": 3
   },
   "file_extension": ".py",
   "mimetype": "text/x-python",
   "name": "python",
   "nbconvert_exporter": "python",
   "pygments_lexer": "ipython3",
   "version": "3.6.8"
  }
 },
 "nbformat": 4,
 "nbformat_minor": 2
}
